{
 "cells": [
  {
   "cell_type": "code",
   "execution_count": 3,
   "metadata": {},
   "outputs": [
    {
     "name": "stdout",
     "output_type": "stream",
     "text": [
      "HTTP/1.1 200 OK\n",
      "Date: Tue, 02 Apr 2024 05:43:51 GMT\n",
      "Server: Apache/2.4.52 (Ubuntu)\n",
      "Last-Modified: Mon, 15 May 2017 11:11:47 GMT\n",
      "ETag: \"80-54f8e1f004857\"\n",
      "Accept-Ranges: bytes\n",
      "Content-Length: 128\n",
      "Cache-Control: max-age=0, no-cache, no-store, must-revalidate\n",
      "Pragma: no-cache\n",
      "Expires: Wed, 11 Jan 1984 05:00:00 GMT\n",
      "Connection: close\n",
      "Content-Type: text/html\n",
      "\n",
      "<h1>The First Page</h1>\n",
      "<p>\n",
      "If you like, you can switch to the \n",
      "<a href=\"http://data.pr4e.org/page2.htm\">\n",
      "Second Page</a>.\n",
      "</p>\n"
     ]
    }
   ],
   "source": [
    "import socket\n",
    "\n",
    "# A socket is like a file\n",
    "# There is a 2 step process to open a socket\n",
    "\n",
    "# First you create the socket, which is now an end point yet to be finished. Is like creating a phone.\n",
    "mysock = socket.socket(socket.AF_INET, socket.SOCK_STREAM) \n",
    "# Then you dial the phone to a domain name and a port.\n",
    "mysock.connect((\"data.pr4e.org\", 80))\n",
    "# a command: GET_URL_ProtocolHTTP/1.0, and an encode unicode to UTF-8\n",
    "cmd = \"GET http://data.pr4e.org/page1.htm HTTP/1.0\\r\\n\\r\\n\".encode()\n",
    "mysock.send(cmd)\n",
    "\n",
    "while True:\n",
    "    data = mysock.recv(512)\n",
    "    if len(data) < 1:\n",
    "        break\n",
    "    print(data.decode(), end=\"\")\n",
    "    \n",
    "mysock.close()"
   ]
  },
  {
   "cell_type": "code",
   "execution_count": null,
   "metadata": {},
   "outputs": [],
   "source": []
  }
 ],
 "metadata": {
  "kernelspec": {
   "display_name": "base",
   "language": "python",
   "name": "python3"
  },
  "language_info": {
   "codemirror_mode": {
    "name": "ipython",
    "version": 3
   },
   "file_extension": ".py",
   "mimetype": "text/x-python",
   "name": "python",
   "nbconvert_exporter": "python",
   "pygments_lexer": "ipython3",
   "version": "3.11.5"
  }
 },
 "nbformat": 4,
 "nbformat_minor": 2
}
