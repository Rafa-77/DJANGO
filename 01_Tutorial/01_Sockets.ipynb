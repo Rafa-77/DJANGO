{
 "cells": [
  {
   "cell_type": "markdown",
   "metadata": {},
   "source": [
    "# Browser perspective"
   ]
  },
  {
   "cell_type": "code",
   "execution_count": 3,
   "metadata": {},
   "outputs": [
    {
     "name": "stdout",
     "output_type": "stream",
     "text": [
      "HTTP/1.1 200 OK\n",
      "Date: Tue, 02 Apr 2024 05:43:51 GMT\n",
      "Server: Apache/2.4.52 (Ubuntu)\n",
      "Last-Modified: Mon, 15 May 2017 11:11:47 GMT\n",
      "ETag: \"80-54f8e1f004857\"\n",
      "Accept-Ranges: bytes\n",
      "Content-Length: 128\n",
      "Cache-Control: max-age=0, no-cache, no-store, must-revalidate\n",
      "Pragma: no-cache\n",
      "Expires: Wed, 11 Jan 1984 05:00:00 GMT\n",
      "Connection: close\n",
      "Content-Type: text/html\n",
      "\n",
      "<h1>The First Page</h1>\n",
      "<p>\n",
      "If you like, you can switch to the \n",
      "<a href=\"http://data.pr4e.org/page2.htm\">\n",
      "Second Page</a>.\n",
      "</p>\n"
     ]
    }
   ],
   "source": [
    "import socket\n",
    "\n",
    "# A socket is like a file\n",
    "# There is a 2 step process to open a socket\n",
    "\n",
    "# First you create the socket, which is now an end point yet to be finished. Is like creating a phone.\n",
    "mysock = socket.socket(socket.AF_INET, socket.SOCK_STREAM) \n",
    "# Then you dial the phone to a domain name and a port.\n",
    "mysock.connect((\"data.pr4e.org\", 80))\n",
    "# a command: GET_URL_ProtocolHTTP/1.0, and an encode unicode to UTF-8\n",
    "cmd = \"GET http://data.pr4e.org/page1.htm HTTP/1.0\\r\\n\\r\\n\".encode()\n",
    "mysock.send(cmd)\n",
    "\n",
    "while True:\n",
    "    data = mysock.recv(512)\n",
    "    if len(data) < 1:\n",
    "        break\n",
    "    print(data.decode(), end=\"\")\n",
    "    \n",
    "mysock.close()"
   ]
  },
  {
   "cell_type": "markdown",
   "metadata": {},
   "source": [
    "# Server Perspective"
   ]
  },
  {
   "cell_type": "code",
   "execution_count": 4,
   "metadata": {},
   "outputs": [
    {
     "name": "stdout",
     "output_type": "stream",
     "text": [
      "Access http://localhost:8080\n",
      "GET / HTTP/1.1\n",
      "GET /favicon.ico HTTP/1.1\n"
     ]
    }
   ],
   "source": [
    "# https://docs.python.org/3/howto/sockets.html\n",
    "# https://stackoverflow.com/questions/8627986/how-to-keep-a-socket-open-until-client-closes-it\n",
    "# https://stackoverflow.com/questions/10091271/how-can-i-implement-a-simple-web-server-using-python-without-using-any-libraries\n",
    "\n",
    "\n",
    "from socket import *\n",
    "\n",
    "\n",
    "def createServer():\n",
    "    # Primero creamos el socket (el telefono)\n",
    "    serversocket = socket(AF_INET, SOCK_STREAM)\n",
    "    try :\n",
    "        # Decimos que solo en el puerto 9000 podemos recibir llamadas\n",
    "        serversocket.bind(('localhost',8080))\n",
    "        # Le decimos que si llegan mas llamadas las ponga en espera en vez de rechazarlas\n",
    "        serversocket.listen(5)\n",
    "        # Este server va a existir por siempre en espera de solicitudes\n",
    "        while(1):\n",
    "            # El accept es como si levantaramos el telefono en espera de la llamada entrante\n",
    "            (clientsocket, address) = serversocket.accept()\n",
    "\n",
    "            # El cliente siempre habla primero\n",
    "            rd = clientsocket.recv(5000).decode()\n",
    "            pieces = rd.split(\"\\n\")\n",
    "            if ( len(pieces) > 0 ) : print(pieces[0])\n",
    "\n",
    "            # Respuesta\n",
    "            data = \"HTTP/1.1 200 OK\\r\\n\"\n",
    "            data += \"Content-Type: text/html; charset=utf-8\\r\\n\"\n",
    "            data += \"\\r\\n\"\n",
    "            data += \"<html><body>Hello World</body></html>\\r\\n\\r\\n\"\n",
    "            clientsocket.sendall(data.encode())\n",
    "            clientsocket.shutdown(SHUT_WR)\n",
    "\n",
    "    except KeyboardInterrupt :\n",
    "        print(\"\\nShutting down...\\n\");\n",
    "    except Exception as exc :\n",
    "        print(\"Error:\\n\");\n",
    "        print(exc)\n",
    "\n",
    "    serversocket.close()\n",
    "\n",
    "print('Access http://localhost:8080')\n",
    "createServer()\n"
   ]
  },
  {
   "cell_type": "markdown",
   "metadata": {},
   "source": [
    "# Web Client Perspective"
   ]
  },
  {
   "cell_type": "code",
   "execution_count": 2,
   "metadata": {},
   "outputs": [
    {
     "name": "stdout",
     "output_type": "stream",
     "text": [
      "HTTP/1.1 200 OK\n",
      "Content-Type: text/html; charset=utf-8\n",
      "\n",
      "<html><body>Hello World</body></html>\n",
      "\n"
     ]
    }
   ],
   "source": [
    "import socket\n",
    "\n",
    "# Make the phone\n",
    "mysock = socket.socket(socket.AF_INET, socket.SOCK_STREAM)\n",
    "# Dial\n",
    "mysock.connect((\"127.0.0.1\", 8080))\n",
    "# Command\n",
    "cmd = \"GET http://127.0.0.1/romeo.txt HTTP/1.0\\r\\n\\r\\n\".encode()\n",
    "mysock.send(cmd)\n",
    "\n",
    "while True:\n",
    "    data = mysock.recv(512)\n",
    "    if len(data) < 1:\n",
    "        break\n",
    "    print(data.decode(), end=\"\")\n",
    "    \n",
    "mysock.close()"
   ]
  },
  {
   "cell_type": "code",
   "execution_count": 3,
   "metadata": {},
   "outputs": [
    {
     "ename": "ConnectionRefusedError",
     "evalue": "[WinError 10061] No se puede establecer una conexión ya que el equipo de destino denegó expresamente dicha conexión",
     "output_type": "error",
     "traceback": [
      "\u001b[1;31m---------------------------------------------------------------------------\u001b[0m",
      "\u001b[1;31mConnectionRefusedError\u001b[0m                    Traceback (most recent call last)",
      "Cell \u001b[1;32mIn[3], line 6\u001b[0m\n\u001b[0;32m      4\u001b[0m mysock \u001b[38;5;241m=\u001b[39m socket\u001b[38;5;241m.\u001b[39msocket(socket\u001b[38;5;241m.\u001b[39mAF_INET, socket\u001b[38;5;241m.\u001b[39mSOCK_STREAM)\n\u001b[0;32m      5\u001b[0m \u001b[38;5;66;03m# Dial\u001b[39;00m\n\u001b[1;32m----> 6\u001b[0m mysock\u001b[38;5;241m.\u001b[39mconnect((\u001b[38;5;124m\"\u001b[39m\u001b[38;5;124m127.0.0.1\u001b[39m\u001b[38;5;124m\"\u001b[39m, \u001b[38;5;241m8080\u001b[39m))\n\u001b[0;32m      7\u001b[0m \u001b[38;5;66;03m# Command\u001b[39;00m\n\u001b[0;32m      8\u001b[0m cmd \u001b[38;5;241m=\u001b[39m \u001b[38;5;124m\"\u001b[39m\u001b[38;5;124mGET http://127.0.0.1/romeo.txt HTTP/1.0\u001b[39m\u001b[38;5;130;01m\\r\u001b[39;00m\u001b[38;5;130;01m\\n\u001b[39;00m\u001b[38;5;130;01m\\r\u001b[39;00m\u001b[38;5;130;01m\\n\u001b[39;00m\u001b[38;5;124m\"\u001b[39m\u001b[38;5;241m.\u001b[39mencode()\n",
      "\u001b[1;31mConnectionRefusedError\u001b[0m: [WinError 10061] No se puede establecer una conexión ya que el equipo de destino denegó expresamente dicha conexión"
     ]
    }
   ],
   "source": [
    "# Si el server no esta conectado arroja un error\n",
    "import socket\n",
    "\n",
    "mysock = socket.socket(socket.AF_INET, socket.SOCK_STREAM)\n",
    "mysock.connect((\"127.0.0.1\", 8080))\n",
    "cmd = \"GET http://127.0.0.1/romeo.txt HTTP/1.0\\r\\n\\r\\n\".encode()\n",
    "mysock.send(cmd)\n",
    "\n",
    "while True:\n",
    "    data = mysock.recv(512)\n",
    "    if len(data) < 1:\n",
    "        break\n",
    "    print(data.decode(), end=\"\")\n",
    "    \n",
    "mysock.close()"
   ]
  },
  {
   "cell_type": "code",
   "execution_count": 6,
   "metadata": {},
   "outputs": [
    {
     "name": "stdout",
     "output_type": "stream",
     "text": [
      "<html><body>Hello World</body></html>\n",
      "\n"
     ]
    }
   ],
   "source": [
    "# Otro Web Client pero mas simple\n",
    "\n",
    "import urllib.request\n",
    "\n",
    "# Aqui ya no estamos hablando en SOCKETS sino en HTTP\n",
    "fhand = urllib.request.urlopen(\"http://127.0.0.1:8080/romeo.txt\")\n",
    "for line in fhand:\n",
    "    print(line.decode().strip())"
   ]
  },
  {
   "cell_type": "code",
   "execution_count": null,
   "metadata": {},
   "outputs": [],
   "source": []
  }
 ],
 "metadata": {
  "kernelspec": {
   "display_name": "base",
   "language": "python",
   "name": "python3"
  },
  "language_info": {
   "codemirror_mode": {
    "name": "ipython",
    "version": 3
   },
   "file_extension": ".py",
   "mimetype": "text/x-python",
   "name": "python",
   "nbconvert_exporter": "python",
   "pygments_lexer": "ipython3",
   "version": "3.11.5"
  }
 },
 "nbformat": 4,
 "nbformat_minor": 2
}
