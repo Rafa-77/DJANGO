{
 "cells": [
  {
   "cell_type": "code",
   "execution_count": 1,
   "metadata": {},
   "outputs": [
    {
     "name": "stdout",
     "output_type": "stream",
     "text": [
      "Access http://localhost:8080\n",
      "GET /romeo.txt HTTP/1.1\n"
     ]
    }
   ],
   "source": [
    "from socket import *\n",
    "\n",
    "def createServer():\n",
    "    # Primero creamos el socket (el telefono)\n",
    "    serversocket = socket(AF_INET, SOCK_STREAM)\n",
    "    try :\n",
    "        # Decimos que solo en el puerto 9000 podemos recibir llamadas\n",
    "        serversocket.bind(('localhost',8080))\n",
    "        # Le decimos que si llegan mas llamadas las ponga en espera en vez de rechazarlas\n",
    "        serversocket.listen(5)\n",
    "        # Este server va a existir por siempre en espera de solicitudes\n",
    "        while(1):\n",
    "            # El accept es como si levantaramos el telefono en espera de la llamada entrante\n",
    "            (clientsocket, address) = serversocket.accept()\n",
    "\n",
    "            # El cliente siempre habla primero\n",
    "            rd = clientsocket.recv(5000).decode()\n",
    "            pieces = rd.split(\"\\n\")\n",
    "            if ( len(pieces) > 0 ) : print(pieces[0])\n",
    "\n",
    "            # Respuesta\n",
    "            data = \"HTTP/1.1 200 OK\\r\\n\"\n",
    "            data += \"Content-Type: text/html; charset=utf-8\\r\\n\"\n",
    "            data += \"\\r\\n\"\n",
    "            data += \"<html><body>Hello World</body></html>\\r\\n\\r\\n\"\n",
    "            clientsocket.sendall(data.encode())\n",
    "            clientsocket.shutdown(SHUT_WR)\n",
    "\n",
    "    except KeyboardInterrupt :\n",
    "        print(\"\\nShutting down...\\n\");\n",
    "    except Exception as exc :\n",
    "        print(\"Error:\\n\");\n",
    "        print(exc)\n",
    "\n",
    "    serversocket.close()\n",
    "\n",
    "print('Access http://localhost:8080')\n",
    "createServer()\n"
   ]
  },
  {
   "cell_type": "code",
   "execution_count": null,
   "metadata": {},
   "outputs": [],
   "source": []
  }
 ],
 "metadata": {
  "kernelspec": {
   "display_name": "base",
   "language": "python",
   "name": "python3"
  },
  "language_info": {
   "codemirror_mode": {
    "name": "ipython",
    "version": 3
   },
   "file_extension": ".py",
   "mimetype": "text/x-python",
   "name": "python",
   "nbconvert_exporter": "python",
   "pygments_lexer": "ipython3",
   "version": "3.11.5"
  }
 },
 "nbformat": 4,
 "nbformat_minor": 2
}
